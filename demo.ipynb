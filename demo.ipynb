{
  "cells": [
    {
      "cell_type": "code",
      "execution_count": 1,
      "metadata": {
        "colab": {
          "base_uri": "https://localhost:8080/"
        },
        "id": "H80WJWdPFLFL",
        "outputId": "84adea9d-a145-42a5-df0b-ed2f678efb94"
      },
      "outputs": [
        {
          "name": "stdout",
          "output_type": "stream",
          "text": [
            "version: 3.11.12 (main, Apr  9 2025, 08:55:54) [GCC 11.4.0]\n"
          ]
        }
      ],
      "source": [
        "# check Python\n",
        "\n",
        "import sys\n",
        "print(\"version:\", sys.version)"
      ]
    },
    {
      "cell_type": "code",
      "execution_count": 2,
      "metadata": {
        "colab": {
          "base_uri": "https://localhost:8080/"
        },
        "id": "OUnODG6gh5Zt",
        "outputId": "56750c17-a546-4016-ae2d-0e2ad5d6c0eb"
      },
      "outputs": [
        {
          "name": "stdout",
          "output_type": "stream",
          "text": [
            "Mounted at /content/drive\n"
          ]
        }
      ],
      "source": [
        "# mount Google Drive\n",
        "from google.colab import drive\n",
        "drive.mount('/content/drive')"
      ]
    },
    {
      "cell_type": "code",
      "execution_count": 3,
      "metadata": {
        "colab": {
          "base_uri": "https://localhost:8080/"
        },
        "id": "lxGepWfgkto1",
        "outputId": "0ad700ad-b4f6-4633-d3e6-f02b8f234beb"
      },
      "outputs": [
        {
          "name": "stdout",
          "output_type": "stream",
          "text": [
            "nvcc: NVIDIA (R) Cuda compiler driver\n",
            "Copyright (c) 2005-2024 NVIDIA Corporation\n",
            "Built on Thu_Jun__6_02:18:23_PDT_2024\n",
            "Cuda compilation tools, release 12.5, V12.5.82\n",
            "Build cuda_12.5.r12.5/compiler.34385749_0\n",
            "gcc (Ubuntu 11.4.0-1ubuntu1~22.04) 11.4.0\n",
            "Copyright (C) 2021 Free Software Foundation, Inc.\n",
            "This is free software; see the source for copying conditions.  There is NO\n",
            "warranty; not even for MERCHANTABILITY or FITNESS FOR A PARTICULAR PURPOSE.\n",
            "\n"
          ]
        }
      ],
      "source": [
        "# check nvcc version\n",
        "!nvcc -V\n",
        "# check GCC version\n",
        "!gcc --version"
      ]
    },
    {
      "cell_type": "code",
      "execution_count": 4,
      "metadata": {
        "colab": {
          "base_uri": "https://localhost:8080/"
        },
        "id": "gJmJTRbT5gXD",
        "outputId": "dcd83dc4-4095-4857-a21f-ed184bc6289a"
      },
      "outputs": [
        {
          "name": "stdout",
          "output_type": "stream",
          "text": [
            "Name: torch\n",
            "Version: 2.6.0+cu124\n",
            "Summary: Tensors and Dynamic neural networks in Python with strong GPU acceleration\n",
            "Home-page: https://pytorch.org/\n",
            "Author: PyTorch Team\n",
            "Author-email: packages@pytorch.org\n",
            "License: BSD-3-Clause\n",
            "Location: /usr/local/lib/python3.11/dist-packages\n",
            "Requires: filelock, fsspec, jinja2, networkx, nvidia-cublas-cu12, nvidia-cuda-cupti-cu12, nvidia-cuda-nvrtc-cu12, nvidia-cuda-runtime-cu12, nvidia-cudnn-cu12, nvidia-cufft-cu12, nvidia-curand-cu12, nvidia-cusolver-cu12, nvidia-cusparse-cu12, nvidia-cusparselt-cu12, nvidia-nccl-cu12, nvidia-nvjitlink-cu12, nvidia-nvtx-cu12, sympy, triton, typing-extensions\n",
            "Required-by: accelerate, fastai, peft, sentence-transformers, timm, torchaudio, torchdata, torchvision\n"
          ]
        }
      ],
      "source": [
        "# check torch\n",
        "!pip show torch"
      ]
    },
    {
      "cell_type": "code",
      "execution_count": 5,
      "metadata": {
        "colab": {
          "base_uri": "https://localhost:8080/"
        },
        "id": "HSW3nn_MyN3z",
        "outputId": "a57630a3-27ee-4623-a325-a8f405d581d3"
      },
      "outputs": [
        {
          "name": "stdout",
          "output_type": "stream",
          "text": [
            "/content/drive/MyDrive/Colab Notebooks/Rotated-RetinaNet\n",
            "Requirement already satisfied: Cython in /usr/local/lib/python3.11/dist-packages (from -r requirements.txt (line 1)) (3.0.12)\n",
            "Collecting imgaug==0.4.0 (from -r requirements.txt (line 2))\n",
            "  Downloading imgaug-0.4.0-py2.py3-none-any.whl.metadata (1.8 kB)\n",
            "Requirement already satisfied: Pillow in /usr/local/lib/python3.11/dist-packages (from -r requirements.txt (line 3)) (11.2.1)\n",
            "Requirement already satisfied: six in /usr/local/lib/python3.11/dist-packages (from -r requirements.txt (line 4)) (1.17.0)\n",
            "Requirement already satisfied: tqdm in /usr/local/lib/python3.11/dist-packages (from -r requirements.txt (line 6)) (4.67.1)\n",
            "Collecting numpy==1.26.4 (from -r requirements.txt (line 7))\n",
            "  Downloading numpy-1.26.4-cp311-cp311-manylinux_2_17_x86_64.manylinux2014_x86_64.whl.metadata (61 kB)\n",
            "\u001b[2K     \u001b[90m━━━━━━━━━━━━━━━━━━━━━━━━━━━━━━━━━━━━━━━━\u001b[0m \u001b[32m61.0/61.0 kB\u001b[0m \u001b[31m5.0 MB/s\u001b[0m eta \u001b[36m0:00:00\u001b[0m\n",
            "\u001b[?25hCollecting ipdb (from -r requirements.txt (line 8))\n",
            "  Downloading ipdb-0.13.13-py3-none-any.whl.metadata (14 kB)\n",
            "Requirement already satisfied: scipy in /usr/local/lib/python3.11/dist-packages (from imgaug==0.4.0->-r requirements.txt (line 2)) (1.15.3)\n",
            "Requirement already satisfied: matplotlib in /usr/local/lib/python3.11/dist-packages (from imgaug==0.4.0->-r requirements.txt (line 2)) (3.10.0)\n",
            "Requirement already satisfied: scikit-image>=0.14.2 in /usr/local/lib/python3.11/dist-packages (from imgaug==0.4.0->-r requirements.txt (line 2)) (0.25.2)\n",
            "Requirement already satisfied: opencv-python in /usr/local/lib/python3.11/dist-packages (from imgaug==0.4.0->-r requirements.txt (line 2)) (4.11.0.86)\n",
            "Requirement already satisfied: imageio in /usr/local/lib/python3.11/dist-packages (from imgaug==0.4.0->-r requirements.txt (line 2)) (2.37.0)\n",
            "Requirement already satisfied: Shapely in /usr/local/lib/python3.11/dist-packages (from imgaug==0.4.0->-r requirements.txt (line 2)) (2.1.0)\n",
            "Requirement already satisfied: ipython>=7.31.1 in /usr/local/lib/python3.11/dist-packages (from ipdb->-r requirements.txt (line 8)) (7.34.0)\n",
            "Requirement already satisfied: decorator in /usr/local/lib/python3.11/dist-packages (from ipdb->-r requirements.txt (line 8)) (4.4.2)\n",
            "Requirement already satisfied: setuptools>=18.5 in /usr/local/lib/python3.11/dist-packages (from ipython>=7.31.1->ipdb->-r requirements.txt (line 8)) (75.2.0)\n",
            "Collecting jedi>=0.16 (from ipython>=7.31.1->ipdb->-r requirements.txt (line 8))\n",
            "  Downloading jedi-0.19.2-py2.py3-none-any.whl.metadata (22 kB)\n",
            "Requirement already satisfied: pickleshare in /usr/local/lib/python3.11/dist-packages (from ipython>=7.31.1->ipdb->-r requirements.txt (line 8)) (0.7.5)\n",
            "Requirement already satisfied: traitlets>=4.2 in /usr/local/lib/python3.11/dist-packages (from ipython>=7.31.1->ipdb->-r requirements.txt (line 8)) (5.7.1)\n",
            "Requirement already satisfied: prompt-toolkit!=3.0.0,!=3.0.1,<3.1.0,>=2.0.0 in /usr/local/lib/python3.11/dist-packages (from ipython>=7.31.1->ipdb->-r requirements.txt (line 8)) (3.0.51)\n",
            "Requirement already satisfied: pygments in /usr/local/lib/python3.11/dist-packages (from ipython>=7.31.1->ipdb->-r requirements.txt (line 8)) (2.19.1)\n",
            "Requirement already satisfied: backcall in /usr/local/lib/python3.11/dist-packages (from ipython>=7.31.1->ipdb->-r requirements.txt (line 8)) (0.2.0)\n",
            "Requirement already satisfied: matplotlib-inline in /usr/local/lib/python3.11/dist-packages (from ipython>=7.31.1->ipdb->-r requirements.txt (line 8)) (0.1.7)\n",
            "Requirement already satisfied: pexpect>4.3 in /usr/local/lib/python3.11/dist-packages (from ipython>=7.31.1->ipdb->-r requirements.txt (line 8)) (4.9.0)\n",
            "Requirement already satisfied: networkx>=3.0 in /usr/local/lib/python3.11/dist-packages (from scikit-image>=0.14.2->imgaug==0.4.0->-r requirements.txt (line 2)) (3.4.2)\n",
            "Requirement already satisfied: tifffile>=2022.8.12 in /usr/local/lib/python3.11/dist-packages (from scikit-image>=0.14.2->imgaug==0.4.0->-r requirements.txt (line 2)) (2025.5.10)\n",
            "Requirement already satisfied: packaging>=21 in /usr/local/lib/python3.11/dist-packages (from scikit-image>=0.14.2->imgaug==0.4.0->-r requirements.txt (line 2)) (24.2)\n",
            "Requirement already satisfied: lazy-loader>=0.4 in /usr/local/lib/python3.11/dist-packages (from scikit-image>=0.14.2->imgaug==0.4.0->-r requirements.txt (line 2)) (0.4)\n",
            "Requirement already satisfied: contourpy>=1.0.1 in /usr/local/lib/python3.11/dist-packages (from matplotlib->imgaug==0.4.0->-r requirements.txt (line 2)) (1.3.2)\n",
            "Requirement already satisfied: cycler>=0.10 in /usr/local/lib/python3.11/dist-packages (from matplotlib->imgaug==0.4.0->-r requirements.txt (line 2)) (0.12.1)\n",
            "Requirement already satisfied: fonttools>=4.22.0 in /usr/local/lib/python3.11/dist-packages (from matplotlib->imgaug==0.4.0->-r requirements.txt (line 2)) (4.58.0)\n",
            "Requirement already satisfied: kiwisolver>=1.3.1 in /usr/local/lib/python3.11/dist-packages (from matplotlib->imgaug==0.4.0->-r requirements.txt (line 2)) (1.4.8)\n",
            "Requirement already satisfied: pyparsing>=2.3.1 in /usr/local/lib/python3.11/dist-packages (from matplotlib->imgaug==0.4.0->-r requirements.txt (line 2)) (3.2.3)\n",
            "Requirement already satisfied: python-dateutil>=2.7 in /usr/local/lib/python3.11/dist-packages (from matplotlib->imgaug==0.4.0->-r requirements.txt (line 2)) (2.9.0.post0)\n",
            "Requirement already satisfied: parso<0.9.0,>=0.8.4 in /usr/local/lib/python3.11/dist-packages (from jedi>=0.16->ipython>=7.31.1->ipdb->-r requirements.txt (line 8)) (0.8.4)\n",
            "Requirement already satisfied: ptyprocess>=0.5 in /usr/local/lib/python3.11/dist-packages (from pexpect>4.3->ipython>=7.31.1->ipdb->-r requirements.txt (line 8)) (0.7.0)\n",
            "Requirement already satisfied: wcwidth in /usr/local/lib/python3.11/dist-packages (from prompt-toolkit!=3.0.0,!=3.0.1,<3.1.0,>=2.0.0->ipython>=7.31.1->ipdb->-r requirements.txt (line 8)) (0.2.13)\n",
            "Downloading imgaug-0.4.0-py2.py3-none-any.whl (948 kB)\n",
            "\u001b[2K   \u001b[90m━━━━━━━━━━━━━━━━━━━━━━━━━━━━━━━━━━━━━━━━\u001b[0m \u001b[32m948.0/948.0 kB\u001b[0m \u001b[31m57.8 MB/s\u001b[0m eta \u001b[36m0:00:00\u001b[0m\n",
            "\u001b[?25hDownloading numpy-1.26.4-cp311-cp311-manylinux_2_17_x86_64.manylinux2014_x86_64.whl (18.3 MB)\n",
            "\u001b[2K   \u001b[90m━━━━━━━━━━━━━━━━━━━━━━━━━━━━━━━━━━━━━━━━\u001b[0m \u001b[32m18.3/18.3 MB\u001b[0m \u001b[31m108.2 MB/s\u001b[0m eta \u001b[36m0:00:00\u001b[0m\n",
            "\u001b[?25hDownloading ipdb-0.13.13-py3-none-any.whl (12 kB)\n",
            "Downloading jedi-0.19.2-py2.py3-none-any.whl (1.6 MB)\n",
            "\u001b[2K   \u001b[90m━━━━━━━━━━━━━━━━━━━━━━━━━━━━━━━━━━━━━━━━\u001b[0m \u001b[32m1.6/1.6 MB\u001b[0m \u001b[31m80.8 MB/s\u001b[0m eta \u001b[36m0:00:00\u001b[0m\n",
            "\u001b[?25hInstalling collected packages: numpy, jedi, ipdb, imgaug\n",
            "  Attempting uninstall: numpy\n",
            "    Found existing installation: numpy 2.0.2\n",
            "    Uninstalling numpy-2.0.2:\n",
            "      Successfully uninstalled numpy-2.0.2\n",
            "\u001b[31mERROR: pip's dependency resolver does not currently take into account all the packages that are installed. This behaviour is the source of the following dependency conflicts.\n",
            "thinc 8.3.6 requires numpy<3.0.0,>=2.0.0, but you have numpy 1.26.4 which is incompatible.\u001b[0m\u001b[31m\n",
            "\u001b[0mSuccessfully installed imgaug-0.4.0 ipdb-0.13.13 jedi-0.19.2 numpy-1.26.4\n"
          ]
        }
      ],
      "source": [
        "# install requirements\n",
        "\n",
        "%cd /content/drive/MyDrive/Colab Notebooks/Rotated-RetinaNet\n",
        "\n",
        "!pip install -r requirements.txt"
      ]
    },
    {
      "cell_type": "code",
      "execution_count": 6,
      "metadata": {
        "colab": {
          "base_uri": "https://localhost:8080/"
        },
        "id": "ARE0-A7y0ocq",
        "outputId": "8c94f374-f210-44e6-b9dd-cc2bde8f42de"
      },
      "outputs": [
        {
          "name": "stdout",
          "output_type": "stream",
          "text": [
            "/content/drive/MyDrive/Colab Notebooks/Rotated-RetinaNet/torch-warmup-lr\n",
            "Obtaining file:///content/drive/MyDrive/Colab%20Notebooks/Rotated-RetinaNet/torch-warmup-lr\n",
            "  Preparing metadata (setup.py) ... \u001b[?25l\u001b[?25hdone\n",
            "Requirement already satisfied: torch in /usr/local/lib/python3.11/dist-packages (from torch_warmup_lr==1.0.0) (2.6.0+cu124)\n",
            "Requirement already satisfied: filelock in /usr/local/lib/python3.11/dist-packages (from torch->torch_warmup_lr==1.0.0) (3.18.0)\n",
            "Requirement already satisfied: typing-extensions>=4.10.0 in /usr/local/lib/python3.11/dist-packages (from torch->torch_warmup_lr==1.0.0) (4.13.2)\n",
            "Requirement already satisfied: networkx in /usr/local/lib/python3.11/dist-packages (from torch->torch_warmup_lr==1.0.0) (3.4.2)\n",
            "Requirement already satisfied: jinja2 in /usr/local/lib/python3.11/dist-packages (from torch->torch_warmup_lr==1.0.0) (3.1.6)\n",
            "Requirement already satisfied: fsspec in /usr/local/lib/python3.11/dist-packages (from torch->torch_warmup_lr==1.0.0) (2025.3.2)\n",
            "Collecting nvidia-cuda-nvrtc-cu12==12.4.127 (from torch->torch_warmup_lr==1.0.0)\n",
            "  Downloading nvidia_cuda_nvrtc_cu12-12.4.127-py3-none-manylinux2014_x86_64.whl.metadata (1.5 kB)\n",
            "Collecting nvidia-cuda-runtime-cu12==12.4.127 (from torch->torch_warmup_lr==1.0.0)\n",
            "  Downloading nvidia_cuda_runtime_cu12-12.4.127-py3-none-manylinux2014_x86_64.whl.metadata (1.5 kB)\n",
            "Collecting nvidia-cuda-cupti-cu12==12.4.127 (from torch->torch_warmup_lr==1.0.0)\n",
            "  Downloading nvidia_cuda_cupti_cu12-12.4.127-py3-none-manylinux2014_x86_64.whl.metadata (1.6 kB)\n",
            "Collecting nvidia-cudnn-cu12==9.1.0.70 (from torch->torch_warmup_lr==1.0.0)\n",
            "  Downloading nvidia_cudnn_cu12-9.1.0.70-py3-none-manylinux2014_x86_64.whl.metadata (1.6 kB)\n",
            "Collecting nvidia-cublas-cu12==12.4.5.8 (from torch->torch_warmup_lr==1.0.0)\n",
            "  Downloading nvidia_cublas_cu12-12.4.5.8-py3-none-manylinux2014_x86_64.whl.metadata (1.5 kB)\n",
            "Collecting nvidia-cufft-cu12==11.2.1.3 (from torch->torch_warmup_lr==1.0.0)\n",
            "  Downloading nvidia_cufft_cu12-11.2.1.3-py3-none-manylinux2014_x86_64.whl.metadata (1.5 kB)\n",
            "Collecting nvidia-curand-cu12==10.3.5.147 (from torch->torch_warmup_lr==1.0.0)\n",
            "  Downloading nvidia_curand_cu12-10.3.5.147-py3-none-manylinux2014_x86_64.whl.metadata (1.5 kB)\n",
            "Collecting nvidia-cusolver-cu12==11.6.1.9 (from torch->torch_warmup_lr==1.0.0)\n",
            "  Downloading nvidia_cusolver_cu12-11.6.1.9-py3-none-manylinux2014_x86_64.whl.metadata (1.6 kB)\n",
            "Collecting nvidia-cusparse-cu12==12.3.1.170 (from torch->torch_warmup_lr==1.0.0)\n",
            "  Downloading nvidia_cusparse_cu12-12.3.1.170-py3-none-manylinux2014_x86_64.whl.metadata (1.6 kB)\n",
            "Requirement already satisfied: nvidia-cusparselt-cu12==0.6.2 in /usr/local/lib/python3.11/dist-packages (from torch->torch_warmup_lr==1.0.0) (0.6.2)\n",
            "Requirement already satisfied: nvidia-nccl-cu12==2.21.5 in /usr/local/lib/python3.11/dist-packages (from torch->torch_warmup_lr==1.0.0) (2.21.5)\n",
            "Requirement already satisfied: nvidia-nvtx-cu12==12.4.127 in /usr/local/lib/python3.11/dist-packages (from torch->torch_warmup_lr==1.0.0) (12.4.127)\n",
            "Collecting nvidia-nvjitlink-cu12==12.4.127 (from torch->torch_warmup_lr==1.0.0)\n",
            "  Downloading nvidia_nvjitlink_cu12-12.4.127-py3-none-manylinux2014_x86_64.whl.metadata (1.5 kB)\n",
            "Requirement already satisfied: triton==3.2.0 in /usr/local/lib/python3.11/dist-packages (from torch->torch_warmup_lr==1.0.0) (3.2.0)\n",
            "Requirement already satisfied: sympy==1.13.1 in /usr/local/lib/python3.11/dist-packages (from torch->torch_warmup_lr==1.0.0) (1.13.1)\n",
            "Requirement already satisfied: mpmath<1.4,>=1.1.0 in /usr/local/lib/python3.11/dist-packages (from sympy==1.13.1->torch->torch_warmup_lr==1.0.0) (1.3.0)\n",
            "Requirement already satisfied: MarkupSafe>=2.0 in /usr/local/lib/python3.11/dist-packages (from jinja2->torch->torch_warmup_lr==1.0.0) (3.0.2)\n",
            "Downloading nvidia_cublas_cu12-12.4.5.8-py3-none-manylinux2014_x86_64.whl (363.4 MB)\n",
            "\u001b[2K   \u001b[90m━━━━━━━━━━━━━━━━━━━━━━━━━━━━━━━━━━━━━━━━\u001b[0m \u001b[32m363.4/363.4 MB\u001b[0m \u001b[31m1.5 MB/s\u001b[0m eta \u001b[36m0:00:00\u001b[0m\n",
            "\u001b[?25hDownloading nvidia_cuda_cupti_cu12-12.4.127-py3-none-manylinux2014_x86_64.whl (13.8 MB)\n",
            "\u001b[2K   \u001b[90m━━━━━━━━━━━━━━━━━━━━━━━━━━━━━━━━━━━━━━━━\u001b[0m \u001b[32m13.8/13.8 MB\u001b[0m \u001b[31m97.7 MB/s\u001b[0m eta \u001b[36m0:00:00\u001b[0m\n",
            "\u001b[?25hDownloading nvidia_cuda_nvrtc_cu12-12.4.127-py3-none-manylinux2014_x86_64.whl (24.6 MB)\n",
            "\u001b[2K   \u001b[90m━━━━━━━━━━━━━━━━━━━━━━━━━━━━━━━━━━━━━━━━\u001b[0m \u001b[32m24.6/24.6 MB\u001b[0m \u001b[31m93.1 MB/s\u001b[0m eta \u001b[36m0:00:00\u001b[0m\n",
            "\u001b[?25hDownloading nvidia_cuda_runtime_cu12-12.4.127-py3-none-manylinux2014_x86_64.whl (883 kB)\n",
            "\u001b[2K   \u001b[90m━━━━━━━━━━━━━━━━━━━━━━━━━━━━━━━━━━━━━━━━\u001b[0m \u001b[32m883.7/883.7 kB\u001b[0m \u001b[31m62.3 MB/s\u001b[0m eta \u001b[36m0:00:00\u001b[0m\n",
            "\u001b[?25hDownloading nvidia_cudnn_cu12-9.1.0.70-py3-none-manylinux2014_x86_64.whl (664.8 MB)\n",
            "\u001b[2K   \u001b[90m━━━━━━━━━━━━━━━━━━━━━━━━━━━━━━━━━━━━━━━━\u001b[0m \u001b[32m664.8/664.8 MB\u001b[0m \u001b[31m2.7 MB/s\u001b[0m eta \u001b[36m0:00:00\u001b[0m\n",
            "\u001b[?25hDownloading nvidia_cufft_cu12-11.2.1.3-py3-none-manylinux2014_x86_64.whl (211.5 MB)\n",
            "\u001b[2K   \u001b[90m━━━━━━━━━━━━━━━━━━━━━━━━━━━━━━━━━━━━━━━━\u001b[0m \u001b[32m211.5/211.5 MB\u001b[0m \u001b[31m5.4 MB/s\u001b[0m eta \u001b[36m0:00:00\u001b[0m\n",
            "\u001b[?25hDownloading nvidia_curand_cu12-10.3.5.147-py3-none-manylinux2014_x86_64.whl (56.3 MB)\n",
            "\u001b[2K   \u001b[90m━━━━━━━━━━━━━━━━━━━━━━━━━━━━━━━━━━━━━━━━\u001b[0m \u001b[32m56.3/56.3 MB\u001b[0m \u001b[31m13.3 MB/s\u001b[0m eta \u001b[36m0:00:00\u001b[0m\n",
            "\u001b[?25hDownloading nvidia_cusolver_cu12-11.6.1.9-py3-none-manylinux2014_x86_64.whl (127.9 MB)\n",
            "\u001b[2K   \u001b[90m━━━━━━━━━━━━━━━━━━━━━━━━━━━━━━━━━━━━━━━━\u001b[0m \u001b[32m127.9/127.9 MB\u001b[0m \u001b[31m7.4 MB/s\u001b[0m eta \u001b[36m0:00:00\u001b[0m\n",
            "\u001b[?25hDownloading nvidia_cusparse_cu12-12.3.1.170-py3-none-manylinux2014_x86_64.whl (207.5 MB)\n",
            "\u001b[2K   \u001b[90m━━━━━━━━━━━━━━━━━━━━━━━━━━━━━━━━━━━━━━━━\u001b[0m \u001b[32m207.5/207.5 MB\u001b[0m \u001b[31m5.3 MB/s\u001b[0m eta \u001b[36m0:00:00\u001b[0m\n",
            "\u001b[?25hDownloading nvidia_nvjitlink_cu12-12.4.127-py3-none-manylinux2014_x86_64.whl (21.1 MB)\n",
            "\u001b[2K   \u001b[90m━━━━━━━━━━━━━━━━━━━━━━━━━━━━━━━━━━━━━━━━\u001b[0m \u001b[32m21.1/21.1 MB\u001b[0m \u001b[31m34.2 MB/s\u001b[0m eta \u001b[36m0:00:00\u001b[0m\n",
            "\u001b[?25hInstalling collected packages: nvidia-nvjitlink-cu12, nvidia-curand-cu12, nvidia-cufft-cu12, nvidia-cuda-runtime-cu12, nvidia-cuda-nvrtc-cu12, nvidia-cuda-cupti-cu12, nvidia-cublas-cu12, nvidia-cusparse-cu12, nvidia-cudnn-cu12, nvidia-cusolver-cu12, torch_warmup_lr\n",
            "  Attempting uninstall: nvidia-nvjitlink-cu12\n",
            "    Found existing installation: nvidia-nvjitlink-cu12 12.5.82\n",
            "    Uninstalling nvidia-nvjitlink-cu12-12.5.82:\n",
            "      Successfully uninstalled nvidia-nvjitlink-cu12-12.5.82\n",
            "  Attempting uninstall: nvidia-curand-cu12\n",
            "    Found existing installation: nvidia-curand-cu12 10.3.6.82\n",
            "    Uninstalling nvidia-curand-cu12-10.3.6.82:\n",
            "      Successfully uninstalled nvidia-curand-cu12-10.3.6.82\n",
            "  Attempting uninstall: nvidia-cufft-cu12\n",
            "    Found existing installation: nvidia-cufft-cu12 11.2.3.61\n",
            "    Uninstalling nvidia-cufft-cu12-11.2.3.61:\n",
            "      Successfully uninstalled nvidia-cufft-cu12-11.2.3.61\n",
            "  Attempting uninstall: nvidia-cuda-runtime-cu12\n",
            "    Found existing installation: nvidia-cuda-runtime-cu12 12.5.82\n",
            "    Uninstalling nvidia-cuda-runtime-cu12-12.5.82:\n",
            "      Successfully uninstalled nvidia-cuda-runtime-cu12-12.5.82\n",
            "  Attempting uninstall: nvidia-cuda-nvrtc-cu12\n",
            "    Found existing installation: nvidia-cuda-nvrtc-cu12 12.5.82\n",
            "    Uninstalling nvidia-cuda-nvrtc-cu12-12.5.82:\n",
            "      Successfully uninstalled nvidia-cuda-nvrtc-cu12-12.5.82\n",
            "  Attempting uninstall: nvidia-cuda-cupti-cu12\n",
            "    Found existing installation: nvidia-cuda-cupti-cu12 12.5.82\n",
            "    Uninstalling nvidia-cuda-cupti-cu12-12.5.82:\n",
            "      Successfully uninstalled nvidia-cuda-cupti-cu12-12.5.82\n",
            "  Attempting uninstall: nvidia-cublas-cu12\n",
            "    Found existing installation: nvidia-cublas-cu12 12.5.3.2\n",
            "    Uninstalling nvidia-cublas-cu12-12.5.3.2:\n",
            "      Successfully uninstalled nvidia-cublas-cu12-12.5.3.2\n",
            "  Attempting uninstall: nvidia-cusparse-cu12\n",
            "    Found existing installation: nvidia-cusparse-cu12 12.5.1.3\n",
            "    Uninstalling nvidia-cusparse-cu12-12.5.1.3:\n",
            "      Successfully uninstalled nvidia-cusparse-cu12-12.5.1.3\n",
            "  Attempting uninstall: nvidia-cudnn-cu12\n",
            "    Found existing installation: nvidia-cudnn-cu12 9.3.0.75\n",
            "    Uninstalling nvidia-cudnn-cu12-9.3.0.75:\n",
            "      Successfully uninstalled nvidia-cudnn-cu12-9.3.0.75\n",
            "  Attempting uninstall: nvidia-cusolver-cu12\n",
            "    Found existing installation: nvidia-cusolver-cu12 11.6.3.83\n",
            "    Uninstalling nvidia-cusolver-cu12-11.6.3.83:\n",
            "      Successfully uninstalled nvidia-cusolver-cu12-11.6.3.83\n",
            "  Running setup.py develop for torch_warmup_lr\n",
            "Successfully installed nvidia-cublas-cu12-12.4.5.8 nvidia-cuda-cupti-cu12-12.4.127 nvidia-cuda-nvrtc-cu12-12.4.127 nvidia-cuda-runtime-cu12-12.4.127 nvidia-cudnn-cu12-9.1.0.70 nvidia-cufft-cu12-11.2.1.3 nvidia-curand-cu12-10.3.5.147 nvidia-cusolver-cu12-11.6.1.9 nvidia-cusparse-cu12-12.3.1.170 nvidia-nvjitlink-cu12-12.4.127 torch_warmup_lr-1.0.0\n"
          ]
        }
      ],
      "source": [
        "# install torch-warmup-lr\n",
        "\n",
        "%cd /content/drive/MyDrive/Colab Notebooks/Rotated-RetinaNet/torch-warmup-lr\n",
        "\n",
        "!pip install -e ."
      ]
    },
    {
      "cell_type": "code",
      "execution_count": 7,
      "metadata": {
        "colab": {
          "base_uri": "https://localhost:8080/"
        },
        "id": "HVwWZ_t5eYRL",
        "outputId": "574e7344-c2ad-4ffd-f4d8-40b89ec2a961"
      },
      "outputs": [
        {
          "name": "stdout",
          "output_type": "stream",
          "text": [
            "Name: torch_warmup_lr\n",
            "Version: 1.0.0\n",
            "Summary: a warpper for pytorch lr_scheduler that support warmup learning rate\n",
            "Home-page: \n",
            "Author: Le H. Duong\n",
            "Author-email: \n",
            "License: \n",
            "Location: /content/drive/MyDrive/Colab Notebooks/Rotated-RetinaNet/torch-warmup-lr\n",
            "Editable project location: /content/drive/MyDrive/Colab Notebooks/Rotated-RetinaNet/torch-warmup-lr\n",
            "Requires: torch\n",
            "Required-by: \n"
          ]
        }
      ],
      "source": [
        "!pip show torch-warmup-lr"
      ]
    },
    {
      "cell_type": "code",
      "execution_count": 8,
      "metadata": {
        "colab": {
          "base_uri": "https://localhost:8080/"
        },
        "id": "ynKBMahXssO8",
        "outputId": "60087725-caaa-4d88-bce6-970aeed55091"
      },
      "outputs": [
        {
          "name": "stdout",
          "output_type": "stream",
          "text": [
            "/content/drive/MyDrive/Colab Notebooks/Rotated-RetinaNet/utils\n",
            "\u001b[H\u001b[2Jpython3 setup.py build_ext --inplace\n",
            "Compiling rbox_overlaps.pyx because it depends on /usr/local/lib/python3.11/dist-packages/numpy/__init__.cython-30.pxd.\n",
            "[1/1] Cythonizing rbox_overlaps.pyx\n",
            "/usr/local/lib/python3.11/dist-packages/Cython/Compiler/Main.py:381: FutureWarning: Cython directive 'language_level' not set, using '3str' for now (Py3). This has changed from earlier releases! File: /content/drive/MyDrive/Colab Notebooks/Rotated-RetinaNet/utils/overlaps/rbox_overlaps.pyx\n",
            "  tree = Parsing.p_module(s, pxd, full_module_name)\n",
            "In file included from \u001b[01m\u001b[K/usr/local/lib/python3.11/dist-packages/numpy/core/include/numpy/ndarraytypes.h:1929\u001b[m\u001b[K,\n",
            "                 from \u001b[01m\u001b[K/usr/local/lib/python3.11/dist-packages/numpy/core/include/numpy/ndarrayobject.h:12\u001b[m\u001b[K,\n",
            "                 from \u001b[01m\u001b[K/usr/local/lib/python3.11/dist-packages/numpy/core/include/numpy/arrayobject.h:5\u001b[m\u001b[K,\n",
            "                 from \u001b[01m\u001b[Krbox_overlaps.cpp:1265\u001b[m\u001b[K:\n",
            "\u001b[01m\u001b[K/usr/local/lib/python3.11/dist-packages/numpy/core/include/numpy/npy_1_7_deprecated_api.h:17:2:\u001b[m\u001b[K \u001b[01;35m\u001b[Kwarning: \u001b[m\u001b[K#warning \"Using deprecated NumPy API, disable it with \" \"#define NPY_NO_DEPRECATED_API NPY_1_7_API_VERSION\" [\u001b[01;35m\u001b[K\u001b]8;;https://gcc.gnu.org/onlinedocs/gcc/Warning-Options.html#index-Wcpp\u0007-Wcpp\u001b]8;;\u0007\u001b[m\u001b[K]\n",
            "   17 | #\u001b[01;35m\u001b[Kwarning\u001b[m\u001b[K \"Using deprecated NumPy API, disable it with \" \\\n",
            "      |  \u001b[01;35m\u001b[K^~~~~~~\u001b[m\u001b[K\n",
            "rm -rf build\n",
            "python3 setup.py build_ext --inplace\n",
            "Compiling cpu_nms.pyx because it depends on /usr/local/lib/python3.11/dist-packages/numpy/__init__.cython-30.pxd.\n",
            "[1/1] Cythonizing cpu_nms.pyx\n",
            "/usr/local/lib/python3.11/dist-packages/Cython/Compiler/Main.py:381: FutureWarning: Cython directive 'language_level' not set, using '3str' for now (Py3). This has changed from earlier releases! File: /content/drive/MyDrive/Colab Notebooks/Rotated-RetinaNet/utils/nms/cpu_nms.pyx\n",
            "  tree = Parsing.p_module(s, pxd, full_module_name)\n",
            "In file included from \u001b[01m\u001b[K/usr/local/lib/python3.11/dist-packages/numpy/core/include/numpy/ndarraytypes.h:1929\u001b[m\u001b[K,\n",
            "                 from \u001b[01m\u001b[K/usr/local/lib/python3.11/dist-packages/numpy/core/include/numpy/ndarrayobject.h:12\u001b[m\u001b[K,\n",
            "                 from \u001b[01m\u001b[K/usr/local/lib/python3.11/dist-packages/numpy/core/include/numpy/arrayobject.h:5\u001b[m\u001b[K,\n",
            "                 from \u001b[01m\u001b[Kcpu_nms.cpp:1265\u001b[m\u001b[K:\n",
            "\u001b[01m\u001b[K/usr/local/lib/python3.11/dist-packages/numpy/core/include/numpy/npy_1_7_deprecated_api.h:17:2:\u001b[m\u001b[K \u001b[01;35m\u001b[Kwarning: \u001b[m\u001b[K#warning \"Using deprecated NumPy API, disable it with \" \"#define NPY_NO_DEPRECATED_API NPY_1_7_API_VERSION\" [\u001b[01;35m\u001b[K\u001b]8;;https://gcc.gnu.org/onlinedocs/gcc/Warning-Options.html#index-Wcpp\u0007-Wcpp\u001b]8;;\u0007\u001b[m\u001b[K]\n",
            "   17 | #\u001b[01;35m\u001b[Kwarning\u001b[m\u001b[K \"Using deprecated NumPy API, disable it with \" \\\n",
            "      |  \u001b[01;35m\u001b[K^~~~~~~\u001b[m\u001b[K\n",
            "\u001b[01m\u001b[Kcpu_nms.cpp:\u001b[m\u001b[K In function ‘\u001b[01m\u001b[KPyObject* __pyx_pf_7cpu_nms_cpu_soft_nms(PyObject*, PyArrayObject*, float, unsigned int, float, float)\u001b[m\u001b[K’:\n",
            "\u001b[01m\u001b[Kcpu_nms.cpp:5414:33:\u001b[m\u001b[K \u001b[01;35m\u001b[Kwarning: \u001b[m\u001b[Kcomparison of integer expressions of different signedness: ‘\u001b[01m\u001b[Kint\u001b[m\u001b[K’ and ‘\u001b[01m\u001b[Kunsigned int\u001b[m\u001b[K’ [\u001b[01;35m\u001b[K\u001b]8;;https://gcc.gnu.org/onlinedocs/gcc/Warning-Options.html#index-Wsign-compare\u0007-Wsign-compare\u001b]8;;\u0007\u001b[m\u001b[K]\n",
            " 5414 |       __pyx_t_11 = (\u001b[01;35m\u001b[K__pyx_v_pos < __pyx_v_N\u001b[m\u001b[K);\n",
            "      |                     \u001b[01;35m\u001b[K~~~~~~~~~~~~^~~~~~~~~~~\u001b[m\u001b[K\n",
            "\u001b[01m\u001b[Kcpu_nms.cpp:6064:33:\u001b[m\u001b[K \u001b[01;35m\u001b[Kwarning: \u001b[m\u001b[Kcomparison of integer expressions of different signedness: ‘\u001b[01m\u001b[Kint\u001b[m\u001b[K’ and ‘\u001b[01m\u001b[Kunsigned int\u001b[m\u001b[K’ [\u001b[01;35m\u001b[K\u001b]8;;https://gcc.gnu.org/onlinedocs/gcc/Warning-Options.html#index-Wsign-compare\u0007-Wsign-compare\u001b]8;;\u0007\u001b[m\u001b[K]\n",
            " 6064 |       __pyx_t_11 = (\u001b[01;35m\u001b[K__pyx_v_pos < __pyx_v_N\u001b[m\u001b[K);\n",
            "      |                     \u001b[01;35m\u001b[K~~~~~~~~~~~~^~~~~~~~~~~\u001b[m\u001b[K\n",
            "rm -rf build\n"
          ]
        }
      ],
      "source": [
        "# setup CUDA\n",
        "\n",
        "%cd /content/drive/MyDrive/Colab Notebooks/Rotated-RetinaNet/utils\n",
        "\n",
        "!bash make.sh"
      ]
    },
    {
      "cell_type": "code",
      "execution_count": 9,
      "metadata": {
        "colab": {
          "base_uri": "https://localhost:8080/"
        },
        "id": "cNUzT_16syGZ",
        "outputId": "439f89e8-8435-4e9f-ec90-fe2fb8308d55"
      },
      "outputs": [
        {
          "name": "stdout",
          "output_type": "stream",
          "text": [
            "/content/drive/MyDrive/Colab Notebooks/Rotated-RetinaNet/datasets/DOTA_devkit\n",
            "Reading package lists... Done\n",
            "Building dependency tree... Done\n",
            "Reading state information... Done\n",
            "The following additional packages will be installed:\n",
            "  swig4.0\n",
            "Suggested packages:\n",
            "  swig-doc swig-examples swig4.0-examples swig4.0-doc\n",
            "The following NEW packages will be installed:\n",
            "  swig swig4.0\n",
            "0 upgraded, 2 newly installed, 0 to remove and 34 not upgraded.\n",
            "Need to get 1,116 kB of archives.\n",
            "After this operation, 5,542 kB of additional disk space will be used.\n",
            "Get:1 http://archive.ubuntu.com/ubuntu jammy/universe amd64 swig4.0 amd64 4.0.2-1ubuntu1 [1,110 kB]\n",
            "Get:2 http://archive.ubuntu.com/ubuntu jammy/universe amd64 swig all 4.0.2-1ubuntu1 [5,632 B]\n",
            "Fetched 1,116 kB in 2s (609 kB/s)\n",
            "debconf: unable to initialize frontend: Dialog\n",
            "debconf: (No usable dialog-like program is installed, so the dialog based frontend cannot be used. at /usr/share/perl5/Debconf/FrontEnd/Dialog.pm line 78, <> line 2.)\n",
            "debconf: falling back to frontend: Readline\n",
            "debconf: unable to initialize frontend: Readline\n",
            "debconf: (This frontend requires a controlling tty.)\n",
            "debconf: falling back to frontend: Teletype\n",
            "dpkg-preconfigure: unable to re-open stdin: \n",
            "Selecting previously unselected package swig4.0.\n",
            "(Reading database ... 126102 files and directories currently installed.)\n",
            "Preparing to unpack .../swig4.0_4.0.2-1ubuntu1_amd64.deb ...\n",
            "Unpacking swig4.0 (4.0.2-1ubuntu1) ...\n",
            "Selecting previously unselected package swig.\n",
            "Preparing to unpack .../swig_4.0.2-1ubuntu1_all.deb ...\n",
            "Unpacking swig (4.0.2-1ubuntu1) ...\n",
            "Setting up swig4.0 (4.0.2-1ubuntu1) ...\n",
            "Setting up swig (4.0.2-1ubuntu1) ...\n",
            "Processing triggers for man-db (2.10.2-1) ...\n",
            "\u001b[01m\u001b[Kpolyiou.cpp:\u001b[m\u001b[K In function ‘\u001b[01m\u001b[Kdouble intersectArea(Point, Point, Point, Point)\u001b[m\u001b[K’:\n",
            "\u001b[01m\u001b[Kpolyiou.cpp:88:5:\u001b[m\u001b[K \u001b[01;35m\u001b[Kwarning: \u001b[m\u001b[Kthis ‘\u001b[01m\u001b[Kif\u001b[m\u001b[K’ clause does not guard... [\u001b[01;35m\u001b[K\u001b]8;;https://gcc.gnu.org/onlinedocs/gcc/Warning-Options.html#index-Wmisleading-indentation\u0007-Wmisleading-indentation\u001b]8;;\u0007\u001b[m\u001b[K]\n",
            "   88 |     \u001b[01;35m\u001b[Kif\u001b[m\u001b[K(s1*s2==-1) res=-res;return res;\n",
            "      |     \u001b[01;35m\u001b[K^~\u001b[m\u001b[K\n",
            "\u001b[01m\u001b[Kpolyiou.cpp:88:28:\u001b[m\u001b[K \u001b[01;36m\u001b[Knote: \u001b[m\u001b[K...this statement, but the latter is misleadingly indented as if it were guarded by the ‘\u001b[01m\u001b[Kif\u001b[m\u001b[K’\n",
            "   88 |     if(s1*s2==-1) res=-res;\u001b[01;36m\u001b[Kreturn\u001b[m\u001b[K res;\n",
            "      |                            \u001b[01;36m\u001b[K^~~~~~\u001b[m\u001b[K\n"
          ]
        }
      ],
      "source": [
        "# install DOTA devkit\n",
        "\n",
        "%cd /content/drive/MyDrive/Colab Notebooks/Rotated-RetinaNet/datasets/DOTA_devkit\n",
        "\n",
        "!sudo apt-get install swig\n",
        "!swig -c++ -python polyiou.i\n",
        "!python setup.py build_ext --inplace"
      ]
    },
    {
      "cell_type": "code",
      "execution_count": null,
      "metadata": {
        "colab": {
          "base_uri": "https://localhost:8080/"
        },
        "id": "r8oo8a4T9jDD",
        "outputId": "a487b477-eb17-4ccf-8bd9-8abdd171a359"
      },
      "outputs": [
        {
          "name": "stdout",
          "output_type": "stream",
          "text": [
            "/content/drive/MyDrive/Colab Notebooks/Rotated-RetinaNet/datasets/DOTA_devkit\n",
            "rm: cannot remove '/content/drive/MyDrive/Colab Notebooks/Rotated-RetinaNet/DOTA/trainsplit': No such file or directory\n",
            "padding: True\n",
            "[ WARN:0@5.005] global loadsave.cpp:848 imwrite_ Unsupported depth image for selected encoder is fallbacked to CV_8U.\n",
            "[ WARN:0@5.029] global loadsave.cpp:848 imwrite_ Unsupported depth image for selected encoder is fallbacked to CV_8U.\n",
            "[ WARN:0@5.051] global loadsave.cpp:848 imwrite_ Unsupported depth image for selected encoder is fallbacked to CV_8U.\n",
            "[ WARN:0@5.054] global loadsave.cpp:848 imwrite_ Unsupported depth image for selected encoder is fallbacked to CV_8U.\n",
            "[ WARN:0@5.086] global loadsave.cpp:848 imwrite_ Unsupported depth image for selected encoder is fallbacked to CV_8U.\n",
            "[ WARN:0@5.144] global loadsave.cpp:848 imwrite_ Unsupported depth image for selected encoder is fallbacked to CV_8U.\n",
            "[ WARN:0@5.146] global loadsave.cpp:848 imwrite_ Unsupported depth image for selected encoder is fallbacked to CV_8U.\n",
            "[ WARN:0@5.210] global loadsave.cpp:848 imwrite_ Unsupported depth image for selected encoder is fallbacked to CV_8U.\n",
            "[ WARN:0@660.640] global loadsave.cpp:268 findDecoder imread_('/content/drive/MyDrive/Colab Notebooks/Rotated-RetinaNet/DOTA/train/images/part1.png'): can't open/read file: check file path/integrity\n",
            "[ WARN:0@660.641] global loadsave.cpp:268 findDecoder imread_('/content/drive/MyDrive/Colab Notebooks/Rotated-RetinaNet/DOTA/train/images/part1.png'): can't open/read file: check file path/integrity\n",
            "start removing background files...\n",
            "100% 20477/20477 [00:26<00:00, 773.23it/s]\n",
            "Time used: 2.17929313\n"
          ]
        }
      ],
      "source": [
        "# split train images\n",
        "\n",
        "%cd /content/drive/MyDrive/Colab Notebooks/Rotated-RetinaNet/datasets/DOTA_devkit\n",
        "\n",
        "!rm -r '/content/drive/MyDrive/Colab Notebooks/Rotated-RetinaNet/DOTA/trainsplit'\n",
        "\n",
        "!python ImgSplit_multi_process.py \\\n",
        "    --raw_root_dir '/content/drive/MyDrive/Colab Notebooks/Rotated-RetinaNet/DOTA/train' \\\n",
        "    --split_root_dir '/content/drive/MyDrive/Colab Notebooks/Rotated-RetinaNet/DOTA/trainsplit'"
      ]
    },
    {
      "cell_type": "code",
      "execution_count": null,
      "metadata": {
        "colab": {
          "base_uri": "https://localhost:8080/"
        },
        "id": "T7wa9130BtKT",
        "outputId": "390cc3dc-17c6-4907-9593-d34c9895ccb7"
      },
      "outputs": [
        {
          "name": "stdout",
          "output_type": "stream",
          "text": [
            "/content/drive/MyDrive/Colab Notebooks/Rotated-RetinaNet/datasets/DOTA_devkit\n",
            "rm: cannot remove '/content/drive/MyDrive/Colab Notebooks/Rotated-RetinaNet/DOTA/valsplit': No such file or directory\n",
            "padding: True\n",
            "[ WARN:0@2.248] global loadsave.cpp:848 imwrite_ Unsupported depth image for selected encoder is fallbacked to CV_8U.\n",
            "[ WARN:0@2.445] global loadsave.cpp:848 imwrite_ Unsupported depth image for selected encoder is fallbacked to CV_8U.\n",
            "[ WARN:0@2.483] global loadsave.cpp:848 imwrite_ Unsupported depth image for selected encoder is fallbacked to CV_8U.\n",
            "[ WARN:0@2.581] global loadsave.cpp:848 imwrite_ Unsupported depth image for selected encoder is fallbacked to CV_8U.\n",
            "[ WARN:0@2.673] global loadsave.cpp:848 imwrite_ Unsupported depth image for selected encoder is fallbacked to CV_8U.\n",
            "[ WARN:0@2.789] global loadsave.cpp:848 imwrite_ Unsupported depth image for selected encoder is fallbacked to CV_8U.\n",
            "[ WARN:0@58.292] global loadsave.cpp:848 imwrite_ Unsupported depth image for selected encoder is fallbacked to CV_8U.\n",
            "[ WARN:0@59.094] global loadsave.cpp:848 imwrite_ Unsupported depth image for selected encoder is fallbacked to CV_8U.\n",
            "start removing background files...\n",
            "100% 8231/8231 [00:21<00:00, 376.74it/s]\n",
            "Time used: 0.9837219480000001\n"
          ]
        }
      ],
      "source": [
        "# split val images\n",
        "\n",
        "%cd /content/drive/MyDrive/Colab Notebooks/Rotated-RetinaNet/datasets/DOTA_devkit\n",
        "\n",
        "!rm -r '/content/drive/MyDrive/Colab Notebooks/Rotated-RetinaNet/DOTA/valsplit'\n",
        "\n",
        "!python ImgSplit_multi_process.py \\\n",
        "    --raw_root_dir '/content/drive/MyDrive/Colab Notebooks/Rotated-RetinaNet/DOTA/val' \\\n",
        "    --split_root_dir '/content/drive/MyDrive/Colab Notebooks/Rotated-RetinaNet/DOTA/valsplit'"
      ]
    },
    {
      "cell_type": "code",
      "execution_count": null,
      "metadata": {
        "colab": {
          "base_uri": "https://localhost:8080/"
        },
        "id": "6heV1O6KT_Rh",
        "outputId": "77929e95-51ac-4750-9727-40a7911a269c"
      },
      "outputs": [
        {
          "name": "stdout",
          "output_type": "stream",
          "text": [
            "/content/drive/MyDrive/Colab Notebooks/Rotated-RetinaNet/datasets\n"
          ]
        }
      ],
      "source": [
        "# generate trainval imagesets\n",
        "\n",
        "%cd /content/drive/MyDrive/Colab Notebooks/Rotated-RetinaNet/datasets\n",
        "\n",
        "!python generate_imageset.py"
      ]
    },
    {
      "cell_type": "code",
      "execution_count": null,
      "metadata": {
        "colab": {
          "base_uri": "https://localhost:8080/"
        },
        "id": "t0YCANTnZfa9",
        "outputId": "efbb1826-7ac2-4a6b-9ed9-643fb338bfd3"
      },
      "outputs": [
        {
          "name": "stdout",
          "output_type": "stream",
          "text": [
            "/content/drive/MyDrive/Colab Notebooks/Rotated-RetinaNet\n",
            "fail to speed up training via apex \n",
            "\n",
            "Namespace(hyp='hyp.py', backbone='res50', freeze_bn=False, weight='', multi_scale=False, dataset='DOTA', train_path='DOTA/trainval.txt', training_size=800, resume=False, load=False, augment=False, target_size=[800])\n",
            "{'lr0': 0.0001, 'warmup_lr': 1e-05, 'warm_epoch': 1.0, 'num_classes': 17.0, 'epochs': 10.0, 'batch_size': 20.0, 'save_interval': 1.0, 'test_interval': 1.0}\n",
            "/usr/local/lib/python3.11/dist-packages/torchvision/models/_utils.py:208: UserWarning: The parameter 'pretrained' is deprecated since 0.13 and may be removed in the future, please use 'weights' instead.\n",
            "  warnings.warn(\n",
            "/usr/local/lib/python3.11/dist-packages/torchvision/models/_utils.py:223: UserWarning: Arguments other than a weight enum or `None` for 'weights' are deprecated since 0.13 and may be removed in the future. The current behavior is equivalent to passing `weights=ResNet50_Weights.IMAGENET1K_V1`. You can also use `weights=ResNet50_Weights.DEFAULT` to get the most up-to-date weights.\n",
            "  warnings.warn(msg)\n",
            "Downloading: \"https://download.pytorch.org/models/resnet50-0676ba61.pth\" to /root/.cache/torch/hub/checkpoints/resnet50-0676ba61.pth\n",
            "100% 97.8M/97.8M [00:00<00:00, 231MB/s]\n",
            "Model Summary: 195 layers, 3.64912e+07 parameters, 3.64912e+07 gradients\n",
            "\n",
            "     Epoch   gpu_mem       cls       reg     total   targets  img_size\n",
            "  0% 0/824 [00:00<?, ?it/s]/content/drive/MyDrive/Colab Notebooks/Rotated-RetinaNet/train.py:169: FutureWarning: `torch.cuda.memory_cached` has been renamed to `torch.cuda.memory_reserved`\n",
            "  mem = torch.cuda.memory_cached() / 1E9 if torch.cuda.is_available() else 0  # (GB)\n",
            "       0/9     31.9G     0.707      1.89       2.6        16       800: 100% 824/824 [1:29:45<00:00,  6.54s/it]\n",
            "\n",
            "     Epoch   gpu_mem       cls       reg     total   targets  img_size\n",
            "       1/9     31.9G     0.436      1.27      1.71        66       800: 100% 824/824 [35:38<00:00,  2.60s/it]\n",
            "\n",
            "     Epoch   gpu_mem       cls       reg     total   targets  img_size\n",
            "       2/9     31.9G     0.455      1.31      1.77        53       800: 100% 824/824 [35:29<00:00,  2.58s/it]\n",
            "\n",
            "     Epoch   gpu_mem       cls       reg     total   targets  img_size\n",
            "       3/9     31.9G     0.396      1.15      1.55       168       800: 100% 824/824 [37:24<00:00,  2.72s/it]\n",
            "\n",
            "     Epoch   gpu_mem       cls       reg     total   targets  img_size\n",
            "       4/9     31.9G     0.346      1.04      1.38        80       800: 100% 824/824 [39:50<00:00,  2.90s/it]\n",
            "\n",
            "     Epoch   gpu_mem       cls       reg     total   targets  img_size\n",
            "       5/9     31.9G      0.31     0.956      1.27       456       800: 100% 824/824 [40:12<00:00,  2.93s/it]\n",
            "\n",
            "     Epoch   gpu_mem       cls       reg     total   targets  img_size\n",
            "       6/9     31.9G     0.276      0.89      1.17        72       800: 100% 824/824 [37:57<00:00,  2.76s/it]\n",
            "\n",
            "     Epoch   gpu_mem       cls       reg     total   targets  img_size\n",
            "       7/9     31.9G     0.253     0.836      1.09        73       800: 100% 824/824 [37:02<00:00,  2.70s/it]\n",
            "\n",
            "     Epoch   gpu_mem       cls       reg     total   targets  img_size\n",
            "       8/9     31.9G     0.229     0.783      1.01       178       800: 100% 824/824 [36:34<00:00,  2.66s/it]\n",
            "\n",
            "     Epoch   gpu_mem       cls       reg     total   targets  img_size\n",
            "       9/9     31.9G     0.173      0.66     0.834       179       800: 100% 824/824 [36:48<00:00,  2.68s/it]\n"
          ]
        }
      ],
      "source": [
        "# training\n",
        "\n",
        "%cd /content/drive/MyDrive/Colab Notebooks/Rotated-RetinaNet\n",
        "\n",
        "!python train.py --resume"
      ]
    },
    {
      "cell_type": "code",
      "execution_count": 23,
      "metadata": {
        "colab": {
          "base_uri": "https://localhost:8080/"
        },
        "id": "h34C3lZokMva",
        "outputId": "80d5ae94-8a41-408e-8325-bb106a16a618"
      },
      "outputs": [
        {
          "name": "stdout",
          "output_type": "stream",
          "text": [
            "/content/drive/MyDrive/Colab Notebooks/Rotated-RetinaNet\n",
            "/usr/local/lib/python3.11/dist-packages/torchvision/models/_utils.py:208: UserWarning: The parameter 'pretrained' is deprecated since 0.13 and may be removed in the future, please use 'weights' instead.\n",
            "  warnings.warn(\n",
            "/usr/local/lib/python3.11/dist-packages/torchvision/models/_utils.py:223: UserWarning: Arguments other than a weight enum or `None` for 'weights' are deprecated since 0.13 and may be removed in the future. The current behavior is equivalent to passing `weights=ResNet50_Weights.IMAGENET1K_V1`. You can also use `weights=ResNet50_Weights.DEFAULT` to get the most up-to-date weights.\n",
            "  warnings.warn(msg)\n",
            "               Class    Images   Targets         P         R   mAP@0.5     Hmean: 100% 4854/4854 [11:04<00:00,  7.30it/s]\n",
            "classname: plane\n",
            "Figure(800x400)\n",
            "F1 score for plane: 0.6444\n",
            "classname: baseball-diamond\n",
            "Figure(800x400)\n",
            "F1 score for baseball-diamond: 0.6223\n",
            "classname: bridge\n",
            "Figure(800x400)\n",
            "F1 score for bridge: 0.5521\n",
            "classname: ground-track-field\n",
            "Figure(800x400)\n",
            "F1 score for ground-track-field: 0.5331\n",
            "classname: small-vehicle\n",
            "Figure(800x400)\n",
            "F1 score for small-vehicle: 0.4748\n",
            "classname: large-vehicle\n",
            "Figure(800x400)\n",
            "F1 score for large-vehicle: 0.4513\n",
            "classname: ship\n",
            "Figure(800x400)\n",
            "F1 score for ship: 0.5183\n",
            "classname: tennis-court\n",
            "Figure(800x400)\n",
            "F1 score for tennis-court: 0.6637\n",
            "classname: basketball-court\n",
            "Figure(800x400)\n",
            "F1 score for basketball-court: 0.5970\n",
            "classname: storage-tank\n",
            "Figure(800x400)\n",
            "F1 score for storage-tank: 0.7098\n",
            "classname: soccer-ball-field\n",
            "Figure(800x400)\n",
            "F1 score for soccer-ball-field: 0.3947\n",
            "classname: roundabout\n",
            "Figure(800x400)\n",
            "F1 score for roundabout: 0.6418\n",
            "classname: harbor\n",
            "Figure(800x400)\n",
            "F1 score for harbor: 0.4441\n",
            "classname: swimming-pool\n",
            "Figure(800x400)\n",
            "F1 score for swimming-pool: 0.6156\n",
            "classname: helicopter\n",
            "Figure(800x400)\n",
            "F1 score for helicopter: 0.5071\n",
            "classname: container-crane\n",
            "Figure(800x400)\n",
            "F1 score for container-crane: 0.4608\n",
            "map: 0.6700634520692335\n",
            "classaps:  [87.66979818 83.60049797 66.58290925 62.79280998 54.72833358 46.92780563\n",
            " 60.78716158 93.7218046  74.53096901 90.87214673 33.7649443  86.59834964\n",
            " 45.72805498 75.86695991 60.07183511 47.85714286]\n",
            "Figure(800x600)\n",
            "                 all  4.85e+03  1.11e+05         0         0      0.67         0\n"
          ]
        }
      ],
      "source": [
        "# evaluation\n",
        "\n",
        "%cd /content/drive/MyDrive/Colab Notebooks/Rotated-RetinaNet\n",
        "\n",
        "!python eval.py --weight weights/best.pth"
      ]
    },
    {
      "cell_type": "code",
      "execution_count": 12,
      "metadata": {
        "colab": {
          "base_uri": "https://localhost:8080/"
        },
        "id": "uAwV2FswK-ME",
        "outputId": "7f00ef5e-f3eb-45e2-bfa6-d07cafe11c56"
      },
      "outputs": [
        {
          "name": "stdout",
          "output_type": "stream",
          "text": [
            "/content/drive/MyDrive/Colab Notebooks/Rotated-RetinaNet/datasets/DOTA_devkit\n",
            "rm: cannot remove '/content/drive/MyDrive/Colab Notebooks/Rotated-RetinaNet/DOTA/testsplit': No such file or directory\n",
            "padding: True\n",
            "[ WARN:0@1.948] global loadsave.cpp:848 imwrite_ Unsupported depth image for selected encoder is fallbacked to CV_8U.\n",
            "[ WARN:0@2.086] global loadsave.cpp:848 imwrite_ Unsupported depth image for selected encoder is fallbacked to CV_8U.\n",
            "[ WARN:0@2.268] global loadsave.cpp:848 imwrite_ Unsupported depth image for selected encoder is fallbacked to CV_8U.\n",
            "[ WARN:0@2.867] global loadsave.cpp:848 imwrite_ Unsupported depth image for selected encoder is fallbacked to CV_8U.\n",
            "[ WARN:0@3.199] global loadsave.cpp:848 imwrite_ Unsupported depth image for selected encoder is fallbacked to CV_8U.\n",
            "[ WARN:0@4.110] global loadsave.cpp:848 imwrite_ Unsupported depth image for selected encoder is fallbacked to CV_8U.\n",
            "start removing background files...\n",
            "Time used: 0.033745601000000014\n"
          ]
        }
      ],
      "source": [
        "# split test images\n",
        "\n",
        "%cd /content/drive/MyDrive/Colab Notebooks/Rotated-RetinaNet/datasets/DOTA_devkit\n",
        "\n",
        "!rm -r '/content/drive/MyDrive/Colab Notebooks/Rotated-RetinaNet/DOTA/testsplit'\n",
        "\n",
        "!python ImgSplit_multi_process.py \\\n",
        "    --raw_root_dir '/content/drive/MyDrive/Colab Notebooks/Rotated-RetinaNet/DOTA/test' \\\n",
        "    --split_root_dir '/content/drive/MyDrive/Colab Notebooks/Rotated-RetinaNet/DOTA/testsplit'"
      ]
    },
    {
      "cell_type": "code",
      "execution_count": null,
      "metadata": {
        "id": "T_Ha9YzzQF-q"
      },
      "outputs": [],
      "source": [
        "# demo\n",
        "\n",
        "%cd /content/drive/MyDrive/Colab Notebooks/Rotated-RetinaNet\n",
        "\n",
        "!python demo.py --weight weights/best.pth"
      ]
    },
    {
      "cell_type": "code",
      "execution_count": null,
      "metadata": {
        "id": "9V9c2uvzAVmO"
      },
      "outputs": [],
      "source": [
        "# draw labels\n",
        "\n",
        "%cd /content/drive/MyDrive/Colab Notebooks/Rotated-RetinaNet\n",
        "\n",
        "!python show.py --ims_dir '/content/drive/MyDrive/Colab Notebooks/Rotated-RetinaNet/DOTA/test'"
      ]
    }
  ],
  "metadata": {
    "accelerator": "GPU",
    "colab": {
      "gpuType": "T4",
      "provenance": []
    },
    "kernelspec": {
      "display_name": ".env",
      "language": "python",
      "name": "python3"
    },
    "language_info": {
      "codemirror_mode": {
        "name": "ipython",
        "version": 3
      },
      "file_extension": ".py",
      "mimetype": "text/x-python",
      "name": "python",
      "nbconvert_exporter": "python",
      "pygments_lexer": "ipython3",
      "version": "3.11.12"
    }
  },
  "nbformat": 4,
  "nbformat_minor": 0
}
